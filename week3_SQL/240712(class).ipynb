{
 "cells": [
  {
   "cell_type": "code",
   "execution_count": 1,
   "metadata": {},
   "outputs": [
    {
     "name": "stdout",
     "output_type": "stream",
     "text": [
      "1\n"
     ]
    }
   ],
   "source": [
    "\n"
   ]
  },
  {
   "cell_type": "code",
   "execution_count": 13,
   "metadata": {},
   "outputs": [
    {
     "name": "stdout",
     "output_type": "stream",
     "text": [
      "결과확인 :  10.0\n",
      "결과 생성 완료\n"
     ]
    }
   ],
   "source": [
    "# 파이썬 예외처리 방법\n",
    "# SQL 연동 시 필수적으로 쓰인다\n",
    "try:\n",
    "    numerator = 10\n",
    "    denominator = int(input(\"숫자를 입력하세요: \"))\n",
    "    result = numerator / denominator\n",
    "except ZeroDivisionError: # 장애가 났을 경우를 대비\n",
    "    print (\"ERROR: 0으로 나눌 수 없음\")\n",
    "else:\n",
    "    print(\"결과확인 : \", result)\n",
    "finally:\n",
    "    print(\"결과 생성 완료\")\n",
    "\n",
    "# 코드는 try, except, else, 그리고 finally 블록을 사용하여 예외를 처리하고 있습니다. \n",
    "\n",
    "# 코드 설명\n",
    "        # try 블록\n",
    "    # try 블록 내에서 실행하려는 코드를 포함합니다.\n",
    "    # numerator = 10과 denominator = 0을 설정하고 result = numerator / denominator를 시도합니다.\n",
    "    # 여기서 denominator가 0이므로, result = numerator / denominator는 ZeroDivisionError 예외를 발생시킵니다.\n",
    "    \n",
    "        # except 블록\n",
    "    # try 블록에서 예외가 발생하면, 해당 예외를 처리하기 위해 except 블록이 실행됩니다.\n",
    "    # 이 경우 ZeroDivisionError 예외가 발생하므로, except ZeroDivisionError 블록이 실행되고 \"ERROR: 0으로 나눌 수 없음\" 메시지가 출력됩니다.\n",
    "    \n",
    "        # else 블록\n",
    "    # try 블록에서 예외가 발생하지 않으면 else 블록이 실행됩니다.\n",
    "    \n",
    "        # finally 블록\n",
    "    # finally 블록은 try, except, else 블록에서 어떤 일이 발생하더라도 항상 실행됩니다.\n"
   ]
  }
 ],
 "metadata": {
  "kernelspec": {
   "display_name": "base",
   "language": "python",
   "name": "python3"
  },
  "language_info": {
   "codemirror_mode": {
    "name": "ipython",
    "version": 3
   },
   "file_extension": ".py",
   "mimetype": "text/x-python",
   "name": "python",
   "nbconvert_exporter": "python",
   "pygments_lexer": "ipython3",
   "version": "3.11.7"
  }
 },
 "nbformat": 4,
 "nbformat_minor": 2
}
